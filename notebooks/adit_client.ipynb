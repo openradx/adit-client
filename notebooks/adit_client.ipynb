{
 "cells": [
  {
   "cell_type": "code",
   "execution_count": 1,
   "metadata": {},
   "outputs": [],
   "source": [
    "import os\n",
    "from adit_client.adit_client.client import AditClient\n",
    "from IPython.display import display\n",
    "\n",
    "os.environ[\"no_proxy\"] = \"localhost,127.0.0.1,adit.krz.uni-heidelberg.de\"\n"
   ]
  },
  {
   "cell_type": "code",
   "execution_count": 2,
   "metadata": {},
   "outputs": [
    {
     "data": {
      "text/plain": [
       "[['MR', 'SR'], ['CT', 'SR'], ['CT', 'SR']]"
      ]
     },
     "metadata": {},
     "output_type": "display_data"
    },
    {
     "data": {
      "text/plain": [
       "['1.2.840.113845.11.1000000001951524609.20200705163958.2689467',\n",
       " '1.2.840.113845.11.1000000001951524609.20200705173311.2689472',\n",
       " '1.2.840.113845.11.1000000001951524609.20200705182951.2689481']"
      ]
     },
     "metadata": {},
     "output_type": "display_data"
    }
   ],
   "source": [
    "token = \"4ee732e6b12e5437ec925a4291e6a7f8c42c03af\"\n",
    "client = AditClient(server_url=\"http://localhost:8000\", auth_token=token)\n",
    "studies = client.search_for_studies(\"ORTHANC1\", {\"ModalitiesInStudy\": \"SR\"})\n",
    "modalities = [study.ModalitiesInStudy for study in studies]\n",
    "display(modalities)\n",
    "study_uids = [study_.StudyInstanceUID for study_ in studies]\n",
    "display(study_uids)"
   ]
  },
  {
   "cell_type": "code",
   "execution_count": 3,
   "metadata": {},
   "outputs": [
    {
     "data": {
      "text/plain": [
       "[{'study_uid': '1.2.840.113845.11.1000000001951524609.20200705163958.2689467',\n",
       "  'series_uid': '1.2.840.113845.11.2000000001951524609.20200705190556.1919168'},\n",
       " {'study_uid': '1.2.840.113845.11.1000000001951524609.20200705173311.2689472',\n",
       "  'series_uid': '1.2.840.113845.11.2000000001951524609.20200705190701.1919169'},\n",
       " {'study_uid': '1.2.840.113845.11.1000000001951524609.20200705182951.2689481',\n",
       "  'series_uid': '1.2.840.113845.11.2000000001951524609.20200705191841.1919177'}]"
      ]
     },
     "metadata": {},
     "output_type": "display_data"
    }
   ],
   "source": [
    "sr_list = []\n",
    "for study_uid in study_uids:\n",
    "    series_list = client.search_for_series(\"ORTHANC1\", study_uid, {\"Modality\": \"SR\"})\n",
    "    series_uids = [series_.SeriesInstanceUID for series_ in series_list]\n",
    "    series_uid = series_uids[0]\n",
    "    sr_list.append({\"study_uid\": study_uid, \"series_uid\": series_uid})\n",
    "\n",
    "display(sr_list)"
   ]
  },
  {
   "cell_type": "code",
   "execution_count": 4,
   "metadata": {},
   "outputs": [],
   "source": [
    "sr_series_list = []\n",
    "for sr_item in sr_list:\n",
    "    study_uid = sr_item[\"study_uid\"]\n",
    "    series_uid = sr_item[\"series_uid\"]\n",
    "    series = client.retrieve_series(\"ORTHANC1\", study_uid, series_uid)\n",
    "    sr_series_list = sr_series_list + series\n"
   ]
  },
  {
   "cell_type": "code",
   "execution_count": 5,
   "metadata": {},
   "outputs": [
    {
     "data": {
      "text/plain": [
       "'Befund:<br>Keine Voraufnahmen zum Vergleich. Multiple Kerne in sternförmiger Anordnung. Keine größeren Lufteinschlüsse. Schöne geometrische Formen. Beurteilung: Gesunde Papaya.<br>\\r\\nBefunder: Dr. med. Kai Schlamp\\r\\n'"
      ]
     },
     "execution_count": 5,
     "metadata": {},
     "output_type": "execute_result"
    }
   ],
   "source": [
    "sr_series_list[0].ContentSequence[0].TextValue"
   ]
  },
  {
   "cell_type": "code",
   "execution_count": 6,
   "metadata": {},
   "outputs": [
    {
     "data": {
      "text/plain": [
       "Dataset.file_meta -------------------------------\n",
       "(0002, 0000) File Meta Information Group Length  UL: 208\n",
       "(0002, 0001) File Meta Information Version       OB: b'\\x00\\x01'\n",
       "(0002, 0002) Media Storage SOP Class UID         UI: Basic Text SR Storage\n",
       "(0002, 0003) Media Storage SOP Instance UID      UI: 1.2.840.113845.11.5000000001951524609.20200705190556.1656631\n",
       "(0002, 0010) Transfer Syntax UID                 UI: Implicit VR Little Endian\n",
       "(0002, 0012) Implementation Class UID            UI: 1.2.826.0.1.3680043.9.3811.2.0.2\n",
       "(0002, 0013) Implementation Version Name         SH: 'PYNETDICOM_202'\n",
       "-------------------------------------------------\n",
       "(0008, 0012) Instance Creation Date              DA: ''\n",
       "(0008, 0013) Instance Creation Time              TM: ''\n",
       "(0008, 0016) SOP Class UID                       UI: Basic Text SR Storage\n",
       "(0008, 0018) SOP Instance UID                    UI: 1.2.840.113845.11.5000000001951524609.20200705190556.1656631\n",
       "(0008, 0020) Study Date                          DA: '20180819'\n",
       "(0008, 0023) Content Date                        DA: '20200705'\n",
       "(0008, 0030) Study Time                          TM: '165100'\n",
       "(0008, 0033) Content Time                        TM: '165100'\n",
       "(0008, 0050) Accession Number                    SH: '0062094291'\n",
       "(0008, 0060) Modality                            CS: 'SR'\n",
       "(0008, 0070) Manufacturer                        LO: 'FUJIFILM Medical Systems USA, Inc.'\n",
       "(0008, 0090) Referring Physician's Name          PN: 'UNKNOWN^UNKNOWN'\n",
       "(0008, 1030) Study Description                   LO: 'MRT-Kopf'\n",
       "(0008, 103e) Series Description                  LO: 'FUJI Basic Text SR for HL7 Radiological Report'\n",
       "(0008, 1111)  Referenced Performed Procedure Step Sequence  1 item(s) ---- \n",
       "\n",
       "   ---------\n",
       "(0010, 0010) Patient's Name                      PN: 'Papaya^Pamela'\n",
       "(0010, 0020) Patient ID                          LO: '1005'\n",
       "(0010, 0030) Patient's Birth Date                DA: '19760829'\n",
       "(0010, 0040) Patient's Sex                       CS: 'F'\n",
       "(0020, 000d) Study Instance UID                  UI: 1.2.840.113845.11.1000000001951524609.20200705163958.2689467\n",
       "(0020, 000e) Series Instance UID                 UI: 1.2.840.113845.11.2000000001951524609.20200705190556.1919168\n",
       "(0020, 0010) Study ID                            SH: ''\n",
       "(0020, 0011) Series Number                       IS: '999'\n",
       "(0020, 0013) Instance Number                     IS: '1'\n",
       "(0032, 1033) Requesting Service                  LO: 'MRT'\n",
       "(0040, a040) Value Type                          CS: 'CONTAINER'\n",
       "(0040, a043)  Concept Name Code Sequence  1 item(s) ---- \n",
       "   (0008, 0100) Code Value                          SH: 'SYN-RPRT'\n",
       "   (0008, 0102) Coding Scheme Designator            SH: '99SYN'\n",
       "   (0008, 0104) Code Meaning                        LO: 'Diagnostic Report'\n",
       "   ---------\n",
       "(0040, a050) Continuity Of Content               CS: 'SEPARATE'\n",
       "(0040, a372)  Performed Procedure Code Sequence  1 item(s) ---- \n",
       "\n",
       "   ---------\n",
       "(0040, a491) Completion Flag                     CS: 'COMPLETE'\n",
       "(0040, a493) Verification Flag                   CS: 'UNVERIFIED'\n",
       "(0040, a730)  Content Sequence  1 item(s) ---- \n",
       "   (0040, a010) Relationship Type                   CS: 'CONTAINS'\n",
       "   (0040, a040) Value Type                          CS: 'TEXT'\n",
       "   (0040, a043)  Concept Name Code Sequence  1 item(s) ---- \n",
       "      (0008, 0100) Code Value                          SH: 'CODE_01'\n",
       "      (0008, 0102) Coding Scheme Designator            SH: '99SYN'\n",
       "      (0008, 0104) Code Meaning                        LO: 'Diagnosis'\n",
       "      ---------\n",
       "   (0040, a160) Text Value                          UT: Array of 214 elements\n",
       "   ---------"
      ]
     },
     "execution_count": 6,
     "metadata": {},
     "output_type": "execute_result"
    }
   ],
   "source": [
    "sr_series_list[0]"
   ]
  }
 ],
 "metadata": {
  "kernelspec": {
   "display_name": ".venv",
   "language": "python",
   "name": "python3"
  },
  "language_info": {
   "codemirror_mode": {
    "name": "ipython",
    "version": 3
   },
   "file_extension": ".py",
   "mimetype": "text/x-python",
   "name": "python",
   "nbconvert_exporter": "python",
   "pygments_lexer": "ipython3",
   "version": "3.11.4"
  },
  "orig_nbformat": 4
 },
 "nbformat": 4,
 "nbformat_minor": 2
}
